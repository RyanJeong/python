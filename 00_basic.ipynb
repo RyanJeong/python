{
 "cells": [
  {
   "cell_type": "code",
   "execution_count": null,
   "metadata": {},
   "outputs": [],
   "source": [
    "# Ctrl + S : Save\n",
    "# ESC : Change the cell mode to command mode\n",
    "# Enter : Change the cell mode to edit mode\n",
    "# 'a' : Add a cell above when you're in command mode\n",
    "# 'b' : Add a cell below when you're in command mode\n",
    "# 'd''d' : Delete a selected cell when you're in command mode\n",
    "# 'j' : Change a cell to below when you're in command mode\n",
    "# 'k': Change a cell to above when you're in command mode\n",
    "# Ctrl + Enter : Run the currently selected cell\n",
    "# Shift + Enter : Run the currently selected cell and insert a new cell immediately below (focus moves to new cell)\n",
    "# 'z' : Undo the last change\n",
    "# 'l''m' : switch the cell type to markdown\n",
    "# 'l''y' : switch the cell type to code\n",
    "# 'L' : Enable/Disable line numbers\n",
    "# Ctrl + '/' : make blocked sentences into comment, or vice versa."
   ]
  },
  {
   "cell_type": "code",
   "execution_count": 6,
   "metadata": {},
   "outputs": [
    {
     "name": "stdout",
     "output_type": "stream",
     "text": [
      "Hello\n",
      "C:\\some\n",
      "ame\n",
      "C:\\some\n",
      "ame\n",
      "C:\\some\\name\n",
      "Usage: thingy [OPTIONS]\n",
      "     -h                        Display this usage message\n",
      "     -H hostname               Hostname to connect to\n",
      "\n"
     ]
    }
   ],
   "source": [
    "print(\"Hello\")\n",
    "\n",
    "# Besides numbers, Python can also manipulate strings,\n",
    "# which can be expressed in several ways. They can be\n",
    "# enclosed in single quotes ('...') or double quotes (\"...\")\n",
    "# with the same result 2. \\ can be used to escape quotes:\n",
    "\n",
    "print(\"C:\\some\\name\")  # here \\n means newline!\n",
    "print('C:\\some\\name')  # here \\n means newline!\n",
    "print(r'C:\\some\\name')  # note the r before the quote\n",
    "\n",
    "print(\"\"\"\\\n",
    "Usage: thingy [OPTIONS]\n",
    "     -h                        Display this usage message\n",
    "     -H hostname               Hostname to connect to\n",
    "\"\"\")"
   ]
  }
 ],
 "metadata": {
  "kernelspec": {
   "display_name": "Python 3",
   "language": "python",
   "name": "python3"
  },
  "language_info": {
   "codemirror_mode": {
    "name": "ipython",
    "version": 3
   },
   "file_extension": ".py",
   "mimetype": "text/x-python",
   "name": "python",
   "nbconvert_exporter": "python",
   "pygments_lexer": "ipython3",
   "version": "3.6.9"
  },
  "orig_nbformat": 4
 },
 "nbformat": 4,
 "nbformat_minor": 2
}
